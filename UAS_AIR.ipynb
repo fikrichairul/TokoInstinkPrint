{
  "nbformat": 4,
  "nbformat_minor": 0,
  "metadata": {
    "colab": {
      "name": "UAS-AIR",
      "provenance": [],
      "collapsed_sections": [],
      "authorship_tag": "ABX9TyPGolfx2+Kf8PBq7X/O3Njq",
      "include_colab_link": true
    },
    "kernelspec": {
      "name": "python3",
      "display_name": "Python 3"
    },
    "language_info": {
      "name": "python"
    }
  },
  "cells": [
    {
      "cell_type": "markdown",
      "metadata": {
        "id": "view-in-github",
        "colab_type": "text"
      },
      "source": [
        "<a href=\"https://colab.research.google.com/github/fikrichairul/TokoInstinkPrint/blob/master/UAS_AIR.ipynb\" target=\"_parent\"><img src=\"https://colab.research.google.com/assets/colab-badge.svg\" alt=\"Open In Colab\"/></a>"
      ]
    },
    {
      "cell_type": "code",
      "execution_count": 6,
      "metadata": {
        "id": "Ov4xzCZY90z0"
      },
      "outputs": [],
      "source": [
        "from urllib.request import urlopen\n",
        "from bs4 import BeautifulSoup"
      ]
    },
    {
      "cell_type": "code",
      "source": [
        "wiki_link = \"https://www.nusamandiri.ac.id/nuri/sambutan-ketua.ajax\"\n",
        "html = urlopen(wiki_link).read()\n",
        "soup = BeautifulSoup(html, 'html.parser')\n",
        "judul = soup.find('div', class_='section-header03').text\n",
        "isi = soup.find('div', class_='col-md-8 col-sm-6 about-ds-content').text\n",
        "\n",
        "print (\"url :\"+wiki_link)\n",
        "print(\"title : \"+ judul)\n",
        "print(\"body : \"+ isi)"
      ],
      "metadata": {
        "id": "5u-ieKq6BCPT"
      },
      "execution_count": null,
      "outputs": []
    },
    {
      "cell_type": "code",
      "source": [
        "wiki_link = \"https://www.nusamandiri.ac.id/nuri/sejarah-stmik.ajax\"\n",
        "html = urlopen(wiki_link).read()\n",
        "soup = BeautifulSoup(html, 'html.parser')\n",
        "judul = soup.find('div', class_='section-header03').text\n",
        "isi = soup.find('div', class_='col-md-12 col-sm-6 about-ds-content').text\n",
        "\n",
        "print (\"url :\"+wiki_link)\n",
        "print(\"title : \"+ judul)\n",
        "print(\"body : \"+ isi)"
      ],
      "metadata": {
        "id": "Xpl7QB2ALCPs"
      },
      "execution_count": null,
      "outputs": []
    },
    {
      "cell_type": "code",
      "source": [
        "wiki_link = \"https://www.nusamandiri.ac.id/nuri/visimisi\"\n",
        "html = urlopen(wiki_link).read()\n",
        "soup = BeautifulSoup(html, 'html.parser')\n",
        "judul = soup.find('div', class_='section-header03').text\n",
        "isi = soup.find('div', class_='col-md-12 col-sm-6 about-ds-content').text\n",
        "\n",
        "print (\"url :\"+wiki_link)\n",
        "print(\"title : \"+ judul)\n",
        "print(\"body : \"+ isi)"
      ],
      "metadata": {
        "id": "5uAlFlkvWNcd"
      },
      "execution_count": null,
      "outputs": []
    },
    {
      "cell_type": "code",
      "source": [
        "wiki_link = \"https://www.nusamandiri.ac.id/nuri/ilmu-komputer-s2-.ajax\"\n",
        "html = urlopen(wiki_link).read()\n",
        "soup = BeautifulSoup(html, 'html.parser')\n",
        "judul = soup.find('div', class_='section-header03').text\n",
        "isi = soup.find('div', class_='col-md-12 col-sm-6 about-ds-content').text\n",
        "\n",
        "print (\"url :\"+wiki_link)\n",
        "print(\"title : \"+ judul)\n",
        "print(\"body : \"+ isi)"
      ],
      "metadata": {
        "id": "e37byx5qWUFM"
      },
      "execution_count": null,
      "outputs": []
    },
    {
      "cell_type": "code",
      "source": [
        "wiki_link = \"https://www.nusamandiri.ac.id/nuri/teknik-informatika-s1.ajax\"\n",
        "html = urlopen(wiki_link).read()\n",
        "soup = BeautifulSoup(html, 'html.parser')\n",
        "judul = soup.find('div', class_='section-header03').text\n",
        "isi = soup.find('div', class_='col-md-12 col-sm-6 about-ds-content').text\n",
        "\n",
        "print (\"url :\"+wiki_link)\n",
        "print(\"title : \"+ judul)\n",
        "print(\"body : \"+ isi)"
      ],
      "metadata": {
        "id": "RVpYSNnOWVlP"
      },
      "execution_count": null,
      "outputs": []
    },
    {
      "cell_type": "code",
      "source": [
        "wiki_link = \"https://www.nusamandiri.ac.id/nuri/sistem-informasi-s1.ajax\"\n",
        "html = urlopen(wiki_link).read()\n",
        "soup = BeautifulSoup(html, 'html.parser')\n",
        "judul = soup.find('div', class_='section-header03').text\n",
        "isi = soup.find('div', class_='col-md-12 col-sm-6 about-ds-content').text\n",
        "\n",
        "print (\"url :\"+wiki_link)\n",
        "print(\"title : \"+ judul)\n",
        "print(\"body : \"+ isi)"
      ],
      "metadata": {
        "id": "7bvyBs20WV6O"
      },
      "execution_count": null,
      "outputs": []
    },
    {
      "cell_type": "code",
      "source": [
        "wiki_link = \"https://www.nusamandiri.ac.id/nuri/sain-data-s1.ajax\"\n",
        "html = urlopen(wiki_link).read()\n",
        "soup = BeautifulSoup(html, 'html.parser')\n",
        "judul = soup.find('div', class_='section-header03').text\n",
        "isi = soup.find('div', class_='col-md-12 col-sm-6 about-ds-content').text\n",
        "\n",
        "print (\"url :\"+wiki_link)\n",
        "print(\"title : \"+ judul)\n",
        "print(\"body : \"+ isi)"
      ],
      "metadata": {
        "colab": {
          "base_uri": "https://localhost:8080/"
        },
        "id": "pQ-FrehXWYX7",
        "outputId": "cc37918c-d836-4b88-c59c-33479ba881c7"
      },
      "execution_count": 59,
      "outputs": [
        {
          "output_type": "stream",
          "name": "stdout",
          "text": [
            "url :https://www.nusamandiri.ac.id/nuri/sain-data-s1.ajax\n",
            "title : \n",
            "VISI MISI TUJUAN  SAINS DATA (S1)\n",
            "\n",
            "body : \n",
            "\n",
            "VISI MISI TUJUAN  SAINS DATA (S1)\n",
            "\n",
            "VISI \r\n",
            "\t\t\t\t\t“Menjadi Program Studi Sains Data yang berkualitas dan berinovasi di bidang pendidikan, penelitian dan pengabdian kepada masyarakat berbasis teknologi informasi di tahun 2035”\n",
            "MISI  \r\n",
            "                    1.\tMenyelenggarakan proses belajar mengajar di bidang sains data yang berkualitas dan berinovasi serta berbasis teknologi informasi dengan menerapkan kurikulum yang sesuai dengan kebutuhan dunia usaha dan industri.\r\n",
            "                    2.\tMenyelenggarakan kegiatan penelitian yang berkualitas di bidang sains data guna menggali, mengembangkan dan menghasilkan inovasi berdasarkan pada intelektual, ide dan gagasan yang orisinal.\r\n",
            "                    3.\tMenyelenggarakan kegiatan pengabdian kepada masyarakat yang berkualitas dan berinovasi di bidang sains data melalui penerapan teknologi informasi untuk kemajuan masyarakat.\r\n",
            "                    4.\tMelaksanakan kegiatan kerjasama di bidang pendidikan, penelitian dan pengabdian kepada masyarakat dengan perusahaan dan instansi pemerintah di bidang sains data yang berkualitas di tingkat nasional maupun internasional.\n",
            "\n",
            "Tujuan \r\n",
            "\r\n",
            "                    1.\tMenghasilkan proses belajar mengajar di bidang sains data, yang berkualitas dan berinovasi serta berbasis teknologi informasi dengan menerapkan kurikulum yang sesuai dengan kebutuhan dunia usaha dan industri.\r\n",
            "                    2.\tMenghasilkan penelitian yang berkualitas di bidang sains data guna menggali, mengembangkan dan menghasilkan inovasi berdasarkan pada intelektual, ide dan gagasan yang orisinal.\r\n",
            "                    3.\tMenghasilkan kegiatan pengabdian kepada masyarakat yang berkualitas dan berinovasi di bidang sains data melalui penerapan teknologi informasi untuk kemajuan masyarakat.\r\n",
            "                    4.\tMenghasilkan kerjasama di bidang pendidikan, penelitian dan pengabdian kepada masyarakat dengan perusahaan dan instansi pemerintah di bidang sains data yang berkualitas di tingkat nasional maupun internasional.\n",
            "\n"
          ]
        }
      ]
    },
    {
      "cell_type": "code",
      "source": [
        "wiki_link = \"https://www.nusamandiri.ac.id/nuri/bisnis-digital-s1.ajax\"\n",
        "html = urlopen(wiki_link).read()\n",
        "soup = BeautifulSoup(html, 'html.parser')\n",
        "judul = soup.find('div', class_='section-header03').text\n",
        "isi = soup.find('div', class_='col-md-12 col-sm-6 about-ds-content').text\n",
        "\n",
        "print (\"url :\"+wiki_link)\n",
        "print(\"title : \"+ judul)\n",
        "print(\"body : \"+ isi)"
      ],
      "metadata": {
        "colab": {
          "base_uri": "https://localhost:8080/"
        },
        "id": "mHvqVx1xWY8Z",
        "outputId": "29f690f9-3811-4033-fd7e-0318aee6394f"
      },
      "execution_count": 60,
      "outputs": [
        {
          "output_type": "stream",
          "name": "stdout",
          "text": [
            "url :https://www.nusamandiri.ac.id/nuri/bisnis-digital-s1.ajax\n",
            "title : \n",
            "VISI MISI TUJUAN  BISNIS DIGITAL (S1)\n",
            "\n",
            "body : \n",
            "\n",
            "VISI MISI TUJUAN  BISNIS DIGITAL (S1)\n",
            "\n",
            "VISI\r\n",
            "\t\t\t\t\t“Menjadi Program Studi Bisnis Digital yang berkualitas dan berinovasi di bidang pendidikan, penelitian dan pengabdian kepada masyarakat berbasis teknologi informasi di tahun 2035”\n",
            "MISI \r\n",
            "\t\t\t\t\t1.\tMenyelenggarakan pendidikan tinggi di bidang bisnis digital yang berkualitas dan berinovasi serta berbasis teknologi informasi dengan menerapkan kurikulum yang sesuai dengan kebutuhan dunia usaha dan industri .\r\n",
            "\t\t\t\t\t2.\tMenyelenggarakan kegiatan penelitian di bidang bisnis digital yang berkualitas  guna menggali, mengembangkan dan menghasilkan inovasi berdasarkan pada intelektual, ide dan gagasan yang orisinal.\r\n",
            "\t\t\t\t\t3.\tMenyelenggarakan kegiatan pengabdian kepada masyarakat di bidang bisnis digital yang berkualitas dan berinovasi serta berorientasi pada pemberdayaan masyarakat melalui penerapan teknologi informasi.\r\n",
            "\t\t\t\t\t4.\tMenyelenggarakan kegiatan kerjasama pendidikan, penelitian dan pengabdian masyarakat di bidang bisnis digital dengan perusahaan dan instansi pemerintah yang berkualitas di tingkat nasional maupun internasional.\r\n",
            "\r\n",
            "\t\t\t\t\t\r\n",
            "\t\t\t\t\r\n",
            "\t\t\t\t\t\n",
            "Tujuan\r\n",
            "\t\t\t\t\t1.\tMenghasilkan lulusan yang berkualitas dan berinovasi di bidang bisnis digital serta mampu beradaptasi terhadap perubahan dan kemajuan teknologi informasi.\r\n",
            "\t\t\t\t\t2.\tMenghasilkan karya ilmiah yang berkualitas di bidang bisnis digital guna menggali, mengembangkan dan menghasilkan inovasi berdasarkan pada intelektual, ide dan gagasan yang orisinal.\r\n",
            "\t\t\t\t\t3.\tMenghasilkan kegiatan pengabdian kepada masyarakat yang berkualitas dan berinovasi di bidang bisnis digital serta berorientasi pada pemberdayaan masyarakat melalui penerapan teknologi informasi.\r\n",
            "\t\t\t\t\t4.\tMenghasilkan kerjasama pendidikan, penelitian dan pengabdian masyarakat di bidang bisnis digital dengan perusahaan dan instansi pemerintah yang berkualitas dan berinovasi di tingkat nasional maupun internasional.\n",
            "\n"
          ]
        }
      ]
    },
    {
      "cell_type": "code",
      "source": [
        "wiki_link = \"https://www.nusamandiri.ac.id/nuri/manajemen-s1.ajax\"\n",
        "html = urlopen(wiki_link).read()\n",
        "soup = BeautifulSoup(html, 'html.parser')\n",
        "judul = soup.find('div', class_='section-header03').text\n",
        "isi = soup.find('div', class_='col-md-12 col-sm-6 about-ds-content').text\n",
        "\n",
        "print (\"url :\"+wiki_link)\n",
        "print(\"title : \"+ judul)\n",
        "print(\"body : \"+ isi)"
      ],
      "metadata": {
        "colab": {
          "base_uri": "https://localhost:8080/"
        },
        "id": "GGiw79RgWZOc",
        "outputId": "a90bb5ce-3ed0-45cc-86ec-f1746ca2040f"
      },
      "execution_count": 61,
      "outputs": [
        {
          "output_type": "stream",
          "name": "stdout",
          "text": [
            "url :https://www.nusamandiri.ac.id/nuri/manajemen-s1.ajax\n",
            "title : \n",
            "VISI MISI TUJUAN MANAJEMEN  (S1)\n",
            "\n",
            "body : \n",
            "\n",
            "VISI MISI TUJUAN MANAJEMEN  (S1)\n",
            "\n",
            "VISI\r\n",
            "\t\t\t\t\t“Menjadi Program Studi Manajemen yang berkualitas dan berinovasi dalam ilmu dan seni manajemen, adaptif terhadap perkembangan teknologi dan informasi di tahun 2035”\n",
            "MISI \r\n",
            "                    1.\tMenyelenggarakan pendidikan yang berkualitas di bidang ilmu dan seni manajemen dengan menerapkan kurikulum pembelajaran yang sesuai dengan kebutuhan dunia usaha dan industri.\r\n",
            "                    2.\tMenyelenggarakan penelitian dan pengabdian kepada masyarakat serta publikasi ilmiah dengan orientasi peningkatan bidang manajemen yang inovatif melalui penerapan ilmu dan teknologi informasi guna meningkatkan kesejahteraan hidup masyarakat untuk mendorong terselenggaranya program studi yang berkualitas.\r\n",
            "                    3.\tMenjalin kerjasama dan kemitraan dengan perusahaan dan instansi pemerintah yang berprinsip pada kesetaraan dalam rangka mewujudkan institusi pendidikan yang inovatif, berkualitas dan bereputasi.\n",
            "\n",
            "Tujuan\r\n",
            "\t\t\t\t\t1.\tMenghasilkan lulusan yang berkompeten dalam bidang ilmu dan seni manajemen serta memiliki tanggung jawab moral, sosial, profesional, berjiwa inovatif, dan berkualitas yang mampu beradaptasi dengan perkembangan teknologi informasi.\r\n",
            "                    2.\tMenghasilkan penelitian dan pengabdian kepada masyarakat serta publikasi ilmiah dengan orientasi peningkatan bidang manajemen yang inovatif melalui penerapan ilmu dan teknologi informasi guna meningkatkan kesejahteraan hidup masyarakat untuk mendorong terselenggaranya program studi yang berkualitas.\r\n",
            "                    3.\tMenghasilkan kerjasama dan kemitraan dengan perusahaan dan instansi pemerintah yang berprinsip pada kesetaraan dalam rangka mewujudkan institusi pendidikan yang inovatif, berkualitas dan bereputasi.\n",
            "\n"
          ]
        }
      ]
    },
    {
      "cell_type": "code",
      "source": [
        "wiki_link = \"https://www.nusamandiri.ac.id/nuri/perhotelan-s1.ajax\"\n",
        "html = urlopen(wiki_link).read()\n",
        "soup = BeautifulSoup(html, 'html.parser')\n",
        "judul = soup.find('div', class_='section-header03').text\n",
        "isi = soup.find('div', class_='col-md-12 col-sm-6 about-ds-content').text\n",
        "\n",
        "print (\"url :\"+wiki_link)\n",
        "print(\"title : \"+ judul)\n",
        "print(\"body : \"+ isi)"
      ],
      "metadata": {
        "colab": {
          "base_uri": "https://localhost:8080/"
        },
        "id": "jp20FacwWZbG",
        "outputId": "876ab2c7-08f4-4325-b76c-27ba4d7e4e68"
      },
      "execution_count": 62,
      "outputs": [
        {
          "output_type": "stream",
          "name": "stdout",
          "text": [
            "url :https://www.nusamandiri.ac.id/nuri/perhotelan-s1.ajax\n",
            "title : \n",
            "VISI MISI TUJUAN PERHOTELAN (D3)\n",
            "\n",
            "body : \n",
            "\n",
            "VISI MISI TUJUAN PERHOTELAN (D3)\n",
            "\n",
            "VISI\r\n",
            "\t\t\t\t\t“Menjadi Program Studi Perhotelan yang berkualitas serta berinovasi di bidang pendidikan, penelitian dan pengabdian kepada masyarakat berbasis teknologi informasi  di tahun 2035”\n",
            "MISI \r\n",
            "                    1.\tMenyelenggarakan pendidikan di bidang perhotelan yang berkualitas, berinovasi dan berbasis teknologi informasi dengan menerapkan kurikulum yang sesuai dengan kebutuhan dunia usaha dan industri .\r\n",
            "                    2.\tMenyelenggarakan kegiatan  penelitian di bidang perhotelan yang berkualitas serta bermanfaat bagi masyarakat guna mendukung kegiatan inovatif serta industri kreatif melalui penerapan teknologi informasi.\r\n",
            "                    3.\tMenyelenggarakan kegiatan pengabdian kepada masyarakat di bidang perhotelan yang berkualitas dan berinovasi serta berorientasi pada pemberdayaan masyarakat melalui penerapan teknologi informasi. \r\n",
            "                    4.\tMelaksanakan kegiatan kerjasama di bidang pendidikan, penelitian dan pengabdian kepada masyarakat dengan perusahaan dan instansi pemerintah di bidang perhotelan yang berkualitas di tingkat nasional maupun internasional.\r\n",
            "\r\n",
            "\t\t\t\t\t\n",
            "Tujuan\r\n",
            "                    1.\tMenghasilkan lulusan yang berkualitas dan berinovasi di bidang perhotelan serta mampu beradaptasi terhadap perubahan dan kemajuan teknologi informasi.\r\n",
            "                    2.\tMenghasilkan karya ilmiah yang berkualitas dan berinovasi di bidang perhotelan dan bermanfaat bagi masyarakat guna mendukung kegiatan inovatif serta industri kreatif.\r\n",
            "                    3.\tMenghasilkan kegiatan pengabdian kepada masyarakat di bidang perhotelan yang berkualitas dan berinovasi serta berorientasi pada pemberdayaan masyarakat melalui penerapan teknologi informasi .\r\n",
            "                    4.\tMenghasilkan kerjasama di bidang pendidikan, penelitian dan pengabdian kepada masyarakat dengan perusahaan dan instansi pemerintah di bidang perhotelan yang berkualitas di tingkat nasional maupun internasional.\r\n",
            "\r\n",
            "\t\t\t\r\n",
            "                    \n",
            "\n"
          ]
        }
      ]
    }
  ]
}